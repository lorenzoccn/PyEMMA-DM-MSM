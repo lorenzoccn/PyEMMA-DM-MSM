{
 "cells": [
  {
   "cell_type": "raw",
   "id": "8440534f-0f42-4f65-9a39-a73aefffd00e",
   "metadata": {},
   "source": [
    "Primeiro importaremos as bibliotecas necessárias, logo depois chamaremos os arquivos da topologia (neste caso, o pdb da nossa molécula) e os arquivos de trajetória (já tratados)"
   ]
  },
  {
   "cell_type": "code",
   "execution_count": 1,
   "id": "e8da0069-c54c-4195-8b58-62c589cfe343",
   "metadata": {
    "tags": []
   },
   "outputs": [],
   "source": [
    "import os\n",
    "import glob\n",
    "import matplotlib.pyplot as plt\n",
    "import numpy as np\n",
    "import mdshare\n",
    "import pyemma\n",
    "import pyemma.coordinates\n",
    "\n",
    "pdb = os.path.join('/home/amangini/workspace/apaga/msh', 'alfa_msh.pdb')\n",
    "files = glob.glob(os.path.join('/home/amangini/workspace/apaga/msh', 'protein_md_*_rot_trans.xtc'))"
   ]
  },
  {
   "cell_type": "raw",
   "id": "7679c2f6-cff9-47da-b753-2a5285ca78d2",
   "metadata": {},
   "source": [
    "Logo após, iremos dividir um conjunto de arquivos de trajetória para servir de treinamento, e um atribuiremos o ultimo dos arquivos de trajetória como a trajetória teste.\n",
    "Essa divisão é útil para avaliar a generalização do modelo ao aplicar técnicas de aprendizado ou modelagem estatística, garantindo que o desempenho seja testado em dados não utilizados no treinamento. "
   ]
  },
  {
   "cell_type": "code",
   "execution_count": null,
   "id": "4b7c7b99-6b3e-4c62-aa08-2f516ae73c09",
   "metadata": {
    "tags": []
   },
   "outputs": [],
   "source": [
    "train_files = files[:5]\n",
    "test_file = files[-1]  # last trajectory is our test data set"
   ]
  },
  {
   "cell_type": "raw",
   "id": "4d1a3b06-3c5a-4a00-b24d-c0ea1726fa7f",
   "metadata": {},
   "source": [
    "Continuando, nós iremos definir um featurizer que ira extrair características relevantes das trajetórias para análise posterior. Inicialmente, a estrutura da molécula é carregada a partir de um arquivo PDB (pdb). Em seguida, são adicionadas duas categorias de ângulos de torsão como características: os ângulos de torsão do esqueleto peptídico (add_backbone_torsions), e os ângulos de torsão das cadeias laterais (add_sidechain_torsions). Ambos são representados como funções seno e cosseno (cossin=True) para evitar descontinuidades na representação angular, e a periodicidade é desativada (periodic=False)."
   ]
  },
  {
   "cell_type": "code",
   "execution_count": 3,
   "id": "22e5fcf4-15df-4b23-a021-606c14d91859",
   "metadata": {
    "tags": []
   },
   "source": [
    "feat = pyemma.coordinates.featurizer(pdb)\n",
    "\n",
    "feat.add_backbone_torsions(cossin=True, periodic=False)\n",
    "feat.add_sidechain_torsions(which='all', cossin=True, periodic=False)"
   ]
  },
  {
   "cell_type": "raw",
   "id": "e32a0080-fe83-4ed3-8f66-bf6cefeef58c",
   "metadata": {},
   "source": [
    "Para o próximo passo iremos atribuir algumas métricas que serão analizadas posteriormente, neste exemplo iremos utilizar 2 métricas diferentes. \n",
    "As métricas escolhidas foram adaptadas do workshop desenvolvido pelo PyEMMA, em que eles se utilizam de além destas duas, da distancia de contato dos carbonos alfa.\n",
    "Existem outras métricas possíveis, mas abordaremos isso no primeiro tópico das discussões.\n",
    "\n",
    "A primeira métrica que usaremos são os ângulos de torsão do esqueleto peptídico, e logo depois utilizaremos a distâncias entre os átomos de carbono alfa (Cα)."
   ]
  },
  {
   "cell_type": "code",
   "execution_count": null,
   "id": "ba76fa64-15da-4735-bd9f-adc3a07e07a6",
   "metadata": {
    "tags": []
   },
   "outputs": [],
   "source": [
    "assert set(train_files) & set(test_file) == set() # para garantir que não existem arquivos em comum no train_files e no test_file\n",
    "\n",
    "data_torsions = pyemma.coordinates.load(train_files, features=feat)\n",
    "data_torsions_test = pyemma.coordinates.load(test_file, features=feat)\n",
    "\n",
    "feat.active_features = [] # limpa a lista de caracteristicas\n",
    "feat.add_distances_ca(periodic=False)\n",
    "\n",
    "data_dists_ca = pyemma.coordinates.load(train_files, features=feat)\n",
    "data_dists_ca_test = pyemma.coordinates.load(test_file, features=feat)"
   ]
  },
  {
   "cell_type": "raw",
   "id": "57ace60b-3745-4564-bf9b-39c85076ce4d",
   "metadata": {},
   "source": [
    "Então é feito o calculo para o plot gráfico, que resulta um gráfico de barras para avaliar o desempenho do modelo VAMP2 para um determinado valor de lag (intervalo de tempo entre os frames das simulações).\n",
    "Inicialmente, é feito o calculo via pyemma.coordinates.vamp para cada uma das métrica, assim como o lag definido e o dim (dimensionalidade do espaço reduzido). \n",
    "O dim foi escolhido com base no workshop desenvolvido pelo PyEMMA, mas a escolha do valor é um passo importante, pois ele determina a quantidade de informações a serem retidas na projeção dos dados para o espaço de menor dimensionalidade. Existem várias abordagens para escolher o valor ideal de dim, mas trateremos disso nas discussões."
   ]
  },
  {
   "cell_type": "code",
   "execution_count": null,
   "id": "2f951c15-7b7f-4639-8d40-476e8af95a5e",
   "metadata": {},
   "outputs": [],
   "source": [
    "def plot_for_lag(ax, lag, dim=3):\n",
    "    vamp_torsions = pyemma.coordinates.vamp(data_torsions, lag=lag, dim=dim)\n",
    "    vamp_dist_ca = pyemma.coordinates.vamp(data_dists_ca, lag=lag, dim=dim)\n",
    "\n",
    "    vamps = (vamp_torsions, vamp_dist_ca)\n",
    "    test_data = (data_torsions_test, data_dists_ca_test, data_contacts_test)\n",
    "    labels = ('torsions', 'CA distances')\n",
    "    for i, (v, test_data) in enumerate(zip(vamps, test_data)):\n",
    "        s = v.score(test_data=test_data)\n",
    "        ax.bar(i, s)\n",
    "    ax.set_title('VAMP2 @ lag = {} ps'.format(lag))\n",
    "    ax.set_xticks(range(len(vamps)))\n",
    "    ax.set_xticklabels(labels)\n",
    "    fig.tight_layout()"
   ]
  },
  {
   "cell_type": "raw",
   "id": "95e45f83-b229-4521-baae-66d859710073",
   "metadata": {},
   "source": [
    "Após feito os calculos iremos então plotar os gráficos, neste exemplo usaremos 4 diferentes valores de lag para gerar os subgráficos.\n",
    "Aqui poderemos analizar como a diferença entre os ângulos e a distancia de contato dos carbonos alfa se comporta com um aumento de lag time."
   ]
  },
  {
   "cell_type": "code",
   "execution_count": null,
   "id": "2835b6fc-5d9d-4602-971e-ea4e89cd77d5",
   "metadata": {},
   "outputs": [],
   "source": [
    "fig, axes = plt.subplots(1, 4, figsize=(15, 3), sharey=True)\n",
    "plot_for_lag(axes[0], 5)\n",
    "plot_for_lag(axes[1], 10)\n",
    "plot_for_lag(axes[2], 20)\n",
    "plot_for_lag(axes[3], 50)"
   ]
  },
  {
   "cell_type": "code",
   "execution_count": null,
   "id": "9d76e6a3-a6de-4381-8ffb-4b6aaf4d30b5",
   "metadata": {},
   "outputs": [],
   "source": [
    "data_concatenated = data_torsions + [data_torsions_test] # concatena as listas"
   ]
  },
  {
   "cell_type": "raw",
   "id": "6ad6c786-fe68-4a40-8869-859bb607398a",
   "metadata": {},
   "source": [
    "Nesta etapa realizaremos um PCA para redução de dimensionalidade dos dados concatenados, gerando representações bidimensionais que serão exibidas em três diferentes modelos de gráfico, sendo o primeiro um histograma das características, o segundo um gráfico de densidade, e por fim um gráfico de energia livre"
   ]
  },
  {
   "cell_type": "code",
   "execution_count": null,
   "id": "d8137a38-eb35-4f08-bc7c-dbba7256e5a3",
   "metadata": {},
   "outputs": [],
   "source": [
    "pca = pyemma.coordinates.pca(data_concatenated, dim=2)\n",
    "pca_concatenated = np.concatenate(pca.get_output())\n",
    "\n",
    "fig, axes = plt.subplots(1, 3, figsize=(12, 3))\n",
    "pyemma.plots.plot_feature_histograms(\n",
    "    pca_concatenated,\n",
    "    ['PC {}'.format(i + 1) for i in range(pca.dimension())],\n",
    "    ax=axes[0])\n",
    "pyemma.plots.plot_density(*pca_concatenated[:, :2].T, ax=axes[1], cbar=False)\n",
    "pyemma.plots.plot_free_energy(*pca_concatenated[:, :2].T, ax=axes[2], legacy=False)\n",
    "for ax in axes.flat[1:]:\n",
    "    ax.set_xlabel('PC 1')\n",
    "    ax.set_ylabel('PC 2')\n",
    "fig.tight_layout()"
   ]
  },
  {
   "cell_type": "raw",
   "id": "2e19f7ad-dcd2-4c16-af99-e4376a0f2731",
   "metadata": {},
   "source": [
    "Nesta etapa iremos realizar uma analise por tICA (Time-Independent Component Analysis) nas trajetórias concatenadas, utilizando os mesmos valores de lag time que utilizamos anteriormente. Ao contrário do PCA anteior que determinamos o numero de dimensões finais que serão analizadas, aqui não iremos limitar o numero de dimensionalidades. Iremos discutir o motivo dessa aplicação depois.\n",
    "Cada linha ira exibir três subgráficos do mesmo lag time, sendo o primeiro o histograma das características, seguido do gráfico de densidade das duas primeiras componentes independentes e por fim o gráfico da pseudo energia livre também das duas primeiras componentes."
   ]
  },
  {
   "cell_type": "code",
   "execution_count": null,
   "id": "571a9b3a-bf17-4a17-9f48-6e7ab3f63a88",
   "metadata": {},
   "outputs": [],
   "source": [
    "lags = [1, 2, 5, 10, 20, 50]\n",
    "\n",
    "fig, axes = plt.subplots(6, 3, figsize=(10, 18))\n",
    "for i, lag in enumerate(lags):\n",
    "    tica = pyemma.coordinates.tica(data_concatenated, lag=lag)\n",
    "    tica_concatenated = np.concatenate(tica.get_output())\n",
    "    pyemma.plots.plot_feature_histograms(\n",
    "        tica_concatenated,\n",
    "        ['IC {}'.format(i + 1) for i in range(tica.dimension())],\n",
    "        ax=axes[i, 0],ignore_dim_warning=True)\n",
    "    axes[i, 0].set_title('lag time = {} steps'.format(lag))\n",
    "    axes[i, 1].set_title(\n",
    "        'Density, actual dimension = {}'.format(tica.dimension()))\n",
    "    pyemma.plots.plot_density(\n",
    "        *tica_concatenated[:, :2].T, ax=axes[i, 1], cbar=False)\n",
    "    pyemma.plots.plot_free_energy(\n",
    "        *tica_concatenated[:, :2].T, ax=axes[i, 2], legacy=False)\n",
    "for ax in axes[:, 1:].flat:\n",
    "    ax.set_xlabel('IC 1')\n",
    "    ax.set_ylabel('IC 2')\n",
    "axes[0, 2].set_title('Pseudo free energy')\n",
    "fig.tight_layout()"
   ]
  },
  {
   "cell_type": "raw",
   "id": "7b0c16ea-cf16-4bd1-ab88-fd083754ffec",
   "metadata": {},
   "source": [
    "Iremos realizar outra PCA das trajetórias concatenadas, porém desta vez aplicando o algoritmo de clusterização K-means para a identificação de grupos de estados conformacionais.\n",
    "O resultados serão apresentados desta vez em 3 dimensões finais, e os gráficos estão organizados como histograma das componentes principais, densidade e centro dos clusters PC1xPC2, PC2xPC3 e PC1xPC3, consecutivamente.\n",
    "A aplicação do K-means tambem será discutida, assim como os parametros escolhidos, que neste exemplo foram seguidos os valores do workshop desenvolvido pelo PyEMMA."
   ]
  },
  {
   "cell_type": "code",
   "execution_count": null,
   "id": "ff8b9639-7292-4db7-a7c0-ed43d516d1d8",
   "metadata": {},
   "outputs": [],
   "source": [
    "pca = pyemma.coordinates.pca(data_concatenated, dim=3)\n",
    "pca_concatenated = np.concatenate(pca.get_output(stride=5))\n",
    "\n",
    "cluster = pyemma.coordinates.cluster_kmeans(pca, k=100, max_iter=50, stride=5)\n",
    "\n",
    "fig, axes = plt.subplots(2, 2, figsize=(10, 8))\n",
    "pyemma.plots.plot_feature_histograms(\n",
    "    pca_concatenated, ['PC {}'.format(i + 1) for i in range(pca.dimension())], ax=axes[0, 0])\n",
    "for ax, (i, j) in zip(axes.flat[1:], [[0, 1], [1, 2], [0, 2]]):\n",
    "    pyemma.plots.plot_density(*pca_concatenated[:, [i, j]].T, ax=ax, cbar=False, alpha=0.1)\n",
    "    ax.scatter(*cluster.clustercenters[:, [i, j]].T, s=15, c='C1')\n",
    "    ax.set_xlabel('PC {}'.format(i + 1))\n",
    "    ax.set_ylabel('PC {}'.format(j + 1))\n",
    "fig.tight_layout()"
   ]
  },
  {
   "cell_type": "raw",
   "id": "406eef5c-3bc2-421f-9e77-ec4ef198cfd9",
   "metadata": {},
   "source": [
    "Em seguida iremos realizar uma analise tICA com os mesmos parametros da PCA que acabamos executar, com a utilização do K-means.\n",
    "O resultados serão apresentados também em 3 dimensões finais, e os gráficos estão organizados como histograma das componentes principais, densidade e centro dos clusters PC1xPC2, PC2xPC3 e PC1xPC3, consecutivamente."
   ]
  },
  {
   "cell_type": "code",
   "execution_count": null,
   "id": "0bcf4594-da51-4b84-b02b-b209d9b52ebc",
   "metadata": {},
   "outputs": [],
   "source": [
    "tica = pyemma.coordinates.tica(data_concatenated, dim=3)\n",
    "tica_concatenated = np.concatenate(tica.get_output(stride=5))\n",
    "\n",
    "cluster = pyemma.coordinates.cluster_kmeans(tica, k=100, max_iter=50, stride=5)\n",
    "\n",
    "fig, axes = plt.subplots(2, 2, figsize=(10, 8))\n",
    "pyemma.plots.plot_feature_histograms(\n",
    "    tica_concatenated, ['IC {}'.format(i + 1) for i in range(tica.dimension())], ax=axes[0, 0])\n",
    "for ax, (i, j) in zip(axes.flat[1:], [[0, 1], [1, 2], [0, 2]]):\n",
    "    pyemma.plots.plot_density(\n",
    "        *tica_concatenated[:, [i, j]].T, ax=ax, cbar=False, alpha=0.1)\n",
    "    ax.scatter(*cluster.clustercenters[:, [i, j]].T, s=15, c='C1')\n",
    "    ax.set_xlabel('IC {}'.format(i + 1))\n",
    "    ax.set_ylabel('IC {}'.format(j + 1))\n",
    "fig.tight_layout()"
   ]
  },
  {
   "cell_type": "raw",
   "id": "aee0dc34-e9be-4a92-be46-af636151ce34",
   "metadata": {},
   "source": [
    "E por ultimo iremos utilizar a abordagem com a tecnica VAMP (Variational Approach for Markov Processes), ainda com a utilização do K-means.\n",
    "A determinação do valor do lag, neste exemplo, foi seguido os valores do workshop desenvolvido pelo PyEMMA, mas abordaremos também na discussão."
   ]
  },
  {
   "cell_type": "code",
   "execution_count": null,
   "id": "aad22355-0ff7-47c7-bb36-6135db4a7c74",
   "metadata": {},
   "outputs": [],
   "source": [
    "vamp = pyemma.coordinates.vamp(data_concatenated, lag=20, dim=3)\n",
    "vamp_concatenated = np.concatenate(vamp.get_output(stride=5))\n",
    "\n",
    "cluster = pyemma.coordinates.cluster_kmeans(vamp, k=100, max_iter=50, stride=5)\n",
    "\n",
    "fig, axes = plt.subplots(2, 2, figsize=(10, 8))\n",
    "pyemma.plots.plot_feature_histograms(\n",
    "    tica_concatenated, ['IC {}'.format(i + 1) for i in range(tica.dimension())], ax=axes[0, 0])\n",
    "for ax, (i, j) in zip(axes.flat[1:], [[0, 1], [1, 2], [0, 2]]):\n",
    "    pyemma.plots.plot_density(*vamp_concatenated[:, [i, j]].T, ax=ax, cbar=False, alpha=0.1)\n",
    "    ax.scatter(*cluster.clustercenters[:, [i, j]].T, s=15, c='C1')\n",
    "    ax.set_xlabel('IC {}'.format(i + 1))\n",
    "    ax.set_ylabel('IC {}'.format(j + 1))\n",
    "fig.tight_layout()"
   ]
  },
  {
   "cell_type": "raw",
   "id": "3fc4914c-fe15-40e3-9358-22ddcf95f28d",
   "metadata": {},
   "source": [
    "Hidden Markov state models (HMMs)"
   ]
  },
  {
   "cell_type": "raw",
   "id": "c1604460-5d5f-45dc-bde7-63c357d0a1ac",
   "metadata": {},
   "source": [
    "Inicialmente iremos extrair as informações de torsão do esqueleto da molecula das trajetórias para as analises seguintes."
   ]
  },
  {
   "cell_type": "code",
   "execution_count": null,
   "id": "dbf87b79-c5d8-48b8-8a10-615d153701c0",
   "metadata": {},
   "outputs": [],
   "source": [
    "torsions_feat = pyemma.coordinates.featurizer(pdb)\n",
    "torsions_feat.add_backbone_torsions(cossin=True, periodic=False)\n",
    "torsions_data = pyemma.coordinates.load(files, features=torsions_feat)"
   ]
  },
  {
   "cell_type": "raw",
   "id": "c2dc3a40-87d0-42f0-9731-2468fea044c5",
   "metadata": {},
   "source": [
    "Iremos aplicar a técnica tICA para reduzir a dimensionalidade dos dados das torsões. A escolha do parametro de lag time é estritamente importante nesta etapa, a discusão será efeito no próximo tópico.\n",
    "Neste exemplo foi seguido os valores do workshop desenvolvido pelo PyEMMA."
   ]
  },
  {
   "cell_type": "code",
   "execution_count": null,
   "id": "3b7e135f-4a70-4899-aeb7-dfc2efb2f9ba",
   "metadata": {},
   "outputs": [],
   "source": [
    "tica = pyemma.coordinates.tica(torsions_data, lag=5)\n",
    "tica_output = tica.get_output()\n",
    "tica_concatenated = np.concatenate(tica_output)"
   ]
  },
  {
   "cell_type": "raw",
   "id": "4e0328d8-9faa-4e59-8404-4ca40d72677e",
   "metadata": {},
   "source": [
    "Aplicaremos a técnica de clusterização K-means aos dados resultantes da análise TICA, os valores nos parametros utilizados como mencionado anteriormente tem grande impacto sobre o resultado.\n",
    "Neste exemplo, workshop desenvolvido pelo PyEMMA, teremos 75 clusters distintos, um máximo de 50 iterações para o algoritmo, um pulo de 10 passos entre cada etapa da trajetória e uma seed aleatória inicial."
   ]
  },
  {
   "cell_type": "code",
   "execution_count": null,
   "id": "4386e0fc-5a3d-4c64-b0ab-2f1563284b90",
   "metadata": {},
   "outputs": [],
   "source": [
    "cluster = pyemma.coordinates.cluster_kmeans(\n",
    "    tica_output, k=75, max_iter=50, stride=10, fixed_seed=1)\n",
    "dtrajs_concatenated = np.concatenate(cluster.dtrajs)"
   ]
  },
  {
   "cell_type": "raw",
   "id": "0120a10a-3d58-456e-8978-d0dbdadaea69",
   "metadata": {},
   "source": [
    "Nesta etapa iremos realizar a analise de timescale implícita usando um modelo de Hidden Markov Model (HMM) aplicados aos resultados da clusterização K-means, e por fim gera um gráfico de implied timescale. Mostrando a evolução das timescales implícitas conforme diferentes lag times, ajudando a identificar a dinâmica temporal do sistema."
   ]
  },
  {
   "cell_type": "code",
   "execution_count": null,
   "id": "7d8972b0-f23a-4325-b9d4-28f5c19f517a",
   "metadata": {},
   "outputs": [],
   "source": [
    "nstates = 5\n",
    "its_hmm = pyemma.msm.timescales_hmsm(cluster.dtrajs, nstates, lags=25, errors='bayes')\n",
    "pyemma.plots.plot_implied_timescales(its_hmm, units='ns', dt=0.1);"
   ]
  },
  {
   "cell_type": "raw",
   "id": "cf26a8bd-01d5-490a-9389-9f913da94a5d",
   "metadata": {},
   "source": [
    "Utilizando Modelo de Markov Oculto (HMM) iremos estimar a dinamica de estados ocultos nas trajetórias de clusters geradas anteriormente. Logo depois o cktest ira realizar um teste de concordância do modelo de Markov, que avalia a consistência das estimativas de transição do modelo. E exibido o gráfico para a visualização deste teste de concordância.\n"
   ]
  },
  {
   "cell_type": "code",
   "execution_count": null,
   "id": "94aacf79-b506-4023-8255-bebf11550848",
   "metadata": {
    "scrolled": true
   },
   "outputs": [],
   "source": [
    "#hmm = pyemma.msm.bayesian_hidden_markov_model(cluster.dtrajs, nstates, lag=1, dt_traj='0.1 ns')\n",
    "hmm = pyemma.msm.estimate_hidden_markov_model(cluster.dtrajs, nstates, lag=1) #essa função foi encontrada no common problems, verificar como arrumar a função original\n",
    "\n",
    "cktest = hmm.cktest(mlags=6)\n",
    "pyemma.plots.plot_cktest(cktest, dt=0.1, units='ns');"
   ]
  },
  {
   "cell_type": "raw",
   "id": "7d7be155-dccb-4993-804c-154f1bc1bc4b",
   "metadata": {},
   "source": [
    "Neste trecho de código, o objetivo é visualizar a atribuição dos estados metastáveis do modelo de Markov Oculto (HMM) sobre a projeção das componentes temporais independentes (ICs) obtidas da análise TICA.\n",
    "Primeiro atribuimos os estados metastáveis do modelo HMM para cada ponto de dados nas trajetórias concatenadas. E então geramos um gráfico de dispersão que mostra como os dados estão distribuídos no espaço das duas primeiras componentes temporais independentes (IC1 e IC2) da análise TICA. "
   ]
  },
  {
   "cell_type": "code",
   "execution_count": null,
   "id": "2a8f9b7f-5842-46b3-8bb1-f8d671e194ed",
   "metadata": {},
   "outputs": [],
   "source": [
    "metastable_traj = hmm.metastable_assignments[dtrajs_concatenated]\n",
    "\n",
    "fig, ax = plt.subplots(figsize=(10, 7))\n",
    "_, _, misc = pyemma.plots.plot_state_map(\n",
    "    *tica_concatenated[:, [0, 1]].T, metastable_traj, ax=ax)\n",
    "\n",
    "misc['cbar'].set_ticklabels(range(1, hmm.nstates + 1))\n",
    "ax.set_xlabel('IC 1')\n",
    "ax.set_ylabel('IC 2')\n",
    "\n",
    "fig.tight_layout()"
   ]
  },
  {
   "cell_type": "raw",
   "id": "ad1036ab-8b66-4152-a488-e13ac855f1f7",
   "metadata": {},
   "source": [
    "Cria uma visualização gráfica mostrando como os estados metastáveis se conectam entre si e as probabilidades de transição entre esses estados."
   ]
  },
  {
   "cell_type": "code",
   "execution_count": null,
   "id": "c7db2fc6-dd15-443e-8eb5-b77638d65a20",
   "metadata": {},
   "outputs": [],
   "source": [
    "pyemma.plots.plot_markov_model(hmm);"
   ]
  },
  {
   "cell_type": "raw",
   "id": "b17c364a-c2a9-4869-adea-e5e2c22eb664",
   "metadata": {},
   "source": [
    "Realizaremos a amostragem dos estados do Modelo de Markov Oculto (HMM) e salva as trajetórias geradas para cada estado metastável como arquivos de estrutura no formato PDB."
   ]
  },
  {
   "cell_type": "code",
   "execution_count": null,
   "id": "6291862f-bafb-43f7-8224-6bd6a0c204fe",
   "metadata": {},
   "outputs": [],
   "source": [
    "hmm_samples = hmm.sample_by_observation_probabilities(50)\n",
    "\n",
    "data_source = pyemma.coordinates.source(files, features=torsions_feat)\n",
    "\n",
    "pyemma.coordinates.save_trajs(\n",
    "    data_source,\n",
    "    hmm_samples,\n",
    "    outfiles=['./data/hmm_{}.pdb'.format(n + 1)\n",
    "              for n in range(hmm.nstates)])"
   ]
  },
  {
   "cell_type": "code",
   "execution_count": null,
   "id": "9b552a13-1d9d-48a7-983a-57a91a1dcce0",
   "metadata": {},
   "outputs": [],
   "source": []
  }
 ],
 "metadata": {
  "kernelspec": {
   "display_name": "Python 3 (ipykernel)",
   "language": "python",
   "name": "python3"
  },
  "language_info": {
   "codemirror_mode": {
    "name": "ipython",
    "version": 3
   },
   "file_extension": ".py",
   "mimetype": "text/x-python",
   "name": "python",
   "nbconvert_exporter": "python",
   "pygments_lexer": "ipython3",
   "version": "3.10.12"
  }
 },
 "nbformat": 4,
 "nbformat_minor": 5
}
